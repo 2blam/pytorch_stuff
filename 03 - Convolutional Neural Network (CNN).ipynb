{
 "cells": [
  {
   "cell_type": "code",
   "execution_count": 1,
   "id": "c335ebb0-cc9d-4f4c-811b-6d8da03533e9",
   "metadata": {},
   "outputs": [
    {
     "name": "stdout",
     "output_type": "stream",
     "text": [
      "2.1.0\n",
      "0.16.0\n"
     ]
    }
   ],
   "source": [
    "import torch\n",
    "from torch import nn\n",
    "\n",
    "from torch.utils.data import DataLoader\n",
    "\n",
    "import torchvision\n",
    "from torchvision import datasets\n",
    "from torchvision import transforms\n",
    "from torchvision.transforms import ToTensor\n",
    "\n",
    "\n",
    "import matplotlib.pyplot as plt\n",
    "\n",
    "print(torch.__version__)\n",
    "print(torchvision.__version__)\n",
    "\n",
    "from helper_functions import *\n",
    "from timeit import default_timer as timer\n",
    "from tqdm import tqdm\n",
    "\n",
    "import pandas as pd\n",
    "import random\n",
    "\n",
    "import torchmetrics, mlxtend\n",
    "from torchmetrics import ConfusionMatrix\n",
    "from mlxtend.plotting import plot_confusion_matrix"
   ]
  },
  {
   "cell_type": "code",
   "execution_count": 2,
   "id": "e44c7447-4806-48d3-8595-fd1b3fa3585d",
   "metadata": {},
   "outputs": [
    {
     "name": "stdout",
     "output_type": "stream",
     "text": [
      "mps\n"
     ]
    }
   ],
   "source": [
    "if torch.backends.mps.is_available(): # MPS device acceleration [For Macbook M1]\n",
    "    device= \"mps\"\n",
    "elif torch.cuda.is_available(): # use GPU, if exists\n",
    "    device = \"cuda\"\n",
    "else:\n",
    "    device = \"cpu\"\n",
    "print(device)"
   ]
  },
  {
   "cell_type": "code",
   "execution_count": 3,
   "id": "e4556939-fe2f-417c-9f08-5c3497acaca6",
   "metadata": {},
   "outputs": [],
   "source": [
    "def set_seed(seed):\n",
    "    if device == \"mps\":\n",
    "        torch.mps.manual_seed(seed)\n",
    "    elif device == \"cuda\":\n",
    "        torch.cuda.manual_seed(seed)\n",
    "    else:\n",
    "        torch.manual_seed(seed)\n",
    "\n",
    "def print_train_time(start:float,\n",
    "                     end:float,\n",
    "                     device: torch.device=None):\n",
    "    \"\"\"Prints difference between start and end time.\"\"\"\n",
    "    total_time = end - start\n",
    "    print(f\"Train time on {device}: {total_time:.3f} seconds\")\n",
    "    return total_time\n",
    "\n",
    "def eval_model(model: torch.nn.Module,\n",
    "               data_loader: torch.utils.data.DataLoader,\n",
    "               loss_fn: torch.nn.Module,\n",
    "               accuracy_fn, \n",
    "               device):\n",
    "    \"\"\"returns a dict containing the results of model predicting on data_loader\"\"\"\n",
    "    loss, acc = 0, 0\n",
    "    model.eval()\n",
    "    with torch.inference_mode():\n",
    "        for X, y in data_loader:\n",
    "            X, y = X.to(device), y.to(device)\n",
    "            y_pred = model(X)\n",
    "            loss += loss_fn(y_pred, y) \n",
    "            acc += accuracy_fn(y_true=y, y_pred=y_pred.argmax(dim=1)) # compare label\n",
    "        # calculate the average\n",
    "        loss /= len(data_loader)\n",
    "        acc /= len(data_loader)\n",
    "    \n",
    "    return { \n",
    "                \"model_name\": model.__class__.__name__,\n",
    "                \"model_loss\": loss.item(),\n",
    "                \"model_acc\": acc\n",
    "           }\n",
    "\n",
    "def train_step(model: torch.nn.Module,\n",
    "               data_loader: torch.utils.data.DataLoader,\n",
    "               loss_fn: torch.nn.Module,\n",
    "               optimizer: torch.optim.Optimizer,\n",
    "               accuracy_fn,\n",
    "               device: torch.device = device):\n",
    "    \"\"\"performs a training with model trying to learn on data_loader\"\"\"\n",
    "    train_loss, train_acc = 0, 0\n",
    "    model.train()\n",
    "\n",
    "    for batch, (X, y) in enumerate(data_loader):\n",
    "        X, y= X.to(device), y.to(device)\n",
    "        y_pred = model(X) # forward pass\n",
    "\n",
    "        # get loss and accuracy\n",
    "        loss = loss_fn(y_pred, y)\n",
    "        train_loss += loss \n",
    "        train_acc += accuracy_fn(y_true=y, y_pred=y_pred.argmax(dim=1))\n",
    "        \n",
    "        optimizer.zero_grad() # optimzer zero grad\n",
    "        loss.backward() # loss backward\n",
    "        optimizer.step() # update parameters\n",
    "\n",
    "    # average training loss per batch\n",
    "    train_loss /= len(data_loader)\n",
    "    train_acc /= len(data_loader)\n",
    "    \n",
    "    print(f\"Train loss: {train_loss:.5f} | Train acc: {train_acc:.2f}%\")\n",
    "\n",
    "def test_step(model: torch.nn.Module,\n",
    "              data_loader: torch.utils.data.DataLoader,\n",
    "              loss_fn: torch.nn.Module,\n",
    "              accuracy_fn,\n",
    "              device: torch.device=device):\n",
    "    \"\"\"performs a testing loop step on model going over dataloader\"\"\"\n",
    "    test_loss, test_acc = 0, 0\n",
    "\n",
    "    model.eval()\n",
    "    with torch.inference_mode():\n",
    "        for X, y in data_loader:\n",
    "            X, y = X.to(device), y.to(device)\n",
    "            y_pred = model(X)\n",
    "            test_loss += loss_fn(y_pred, y) \n",
    "            test_acc += accuracy_fn(y_true=y, y_pred=y_pred.argmax(dim=1)) # compare label\n",
    "            \n",
    "        # calculate the average\n",
    "        test_loss /= len(data_loader)\n",
    "        test_acc /= len(data_loader)\n",
    "    print(f\"Test loss: {test_loss:.5f} | Train acc: {test_acc:.2f}%\")"
   ]
  },
  {
   "cell_type": "code",
   "execution_count": 4,
   "id": "1d2837b2-c09d-4c25-9c86-0d63c5b6bab3",
   "metadata": {},
   "outputs": [],
   "source": [
    "# get dataset - Fashion MNIST\n",
    "\n",
    "train_data = datasets.FashionMNIST(\n",
    "    root=\"data\",\n",
    "    train=True,\n",
    "    download=False, # use True if it is first time\n",
    "    transform=torchvision.transforms.ToTensor(), # pixel value range: [0, 1]; shape; (C x H x W)\n",
    "    target_transform=None,\n",
    ")\n",
    "\n",
    "test_data = datasets.FashionMNIST(\n",
    "    root=\"data\",\n",
    "    train=False,\n",
    "    download=False, # use True if it is first time,\n",
    "    transform=torchvision.transforms.ToTensor(),\n",
    "    target_transform=None,\n",
    ")"
   ]
  },
  {
   "cell_type": "markdown",
   "id": "d30ade66-651f-4d47-9c44-e203e13019ea",
   "metadata": {},
   "source": [
    "### Common Function Usage"
   ]
  },
  {
   "cell_type": "code",
   "execution_count": 5,
   "id": "79952ff1-5a3e-49aa-817a-97132e290e88",
   "metadata": {},
   "outputs": [
    {
     "data": {
      "text/plain": [
       "(60000, 10000)"
      ]
     },
     "execution_count": 5,
     "metadata": {},
     "output_type": "execute_result"
    }
   ],
   "source": [
    "len(train_data), len(test_data)"
   ]
  },
  {
   "cell_type": "code",
   "execution_count": 6,
   "id": "133c98c6-8c35-47b5-9f9f-266adc1026b3",
   "metadata": {},
   "outputs": [
    {
     "data": {
      "text/plain": [
       "['T-shirt/top',\n",
       " 'Trouser',\n",
       " 'Pullover',\n",
       " 'Dress',\n",
       " 'Coat',\n",
       " 'Sandal',\n",
       " 'Shirt',\n",
       " 'Sneaker',\n",
       " 'Bag',\n",
       " 'Ankle boot']"
      ]
     },
     "execution_count": 6,
     "metadata": {},
     "output_type": "execute_result"
    }
   ],
   "source": [
    "class_names = train_data.classes\n",
    "class_names"
   ]
  },
  {
   "cell_type": "code",
   "execution_count": 7,
   "id": "4a491e64-2a14-44c5-aef0-0cfa1de56786",
   "metadata": {},
   "outputs": [
    {
     "data": {
      "text/plain": [
       "{'T-shirt/top': 0,\n",
       " 'Trouser': 1,\n",
       " 'Pullover': 2,\n",
       " 'Dress': 3,\n",
       " 'Coat': 4,\n",
       " 'Sandal': 5,\n",
       " 'Shirt': 6,\n",
       " 'Sneaker': 7,\n",
       " 'Bag': 8,\n",
       " 'Ankle boot': 9}"
      ]
     },
     "execution_count": 7,
     "metadata": {},
     "output_type": "execute_result"
    }
   ],
   "source": [
    "class_to_idx = train_data.class_to_idx\n",
    "class_to_idx"
   ]
  },
  {
   "cell_type": "code",
   "execution_count": 8,
   "id": "cebba6ff-b625-474c-b04d-89a8f6c053c2",
   "metadata": {},
   "outputs": [
    {
     "data": {
      "text/plain": [
       "tensor([9, 0, 0,  ..., 3, 0, 5])"
      ]
     },
     "execution_count": 8,
     "metadata": {},
     "output_type": "execute_result"
    }
   ],
   "source": [
    "train_data.targets"
   ]
  },
  {
   "cell_type": "code",
   "execution_count": 9,
   "id": "abf51359-da1a-4d55-92c7-a35ed02d1261",
   "metadata": {},
   "outputs": [
    {
     "data": {
      "text/plain": [
       "(torch.Size([1, 28, 28]), 'Ankle boot')"
      ]
     },
     "execution_count": 9,
     "metadata": {},
     "output_type": "execute_result"
    }
   ],
   "source": [
    "image, label = train_data[0]\n",
    "image.shape, class_names[label]"
   ]
  },
  {
   "cell_type": "code",
   "execution_count": 10,
   "id": "d1769ed2-3900-4018-8535-9ed4662d7e59",
   "metadata": {},
   "outputs": [
    {
     "data": {
      "image/png": "[encoded data removed]",
      "text/plain": [
       "<Figure size 900x900 with 16 Axes>"
      ]
     },
     "metadata": {},
     "output_type": "display_data"
    }
   ],
   "source": [
    "set_seed(42)\n",
    "fig = plt.figure(figsize=(9, 9))\n",
    "rows, cols = 4, 4\n",
    "for i in range(1, rows*cols+1):\n",
    "    ridx = torch.randint(0, len(train_data), size=[1]).item()\n",
    "    img, lbl = train_data[ridx]\n",
    "    fig.add_subplot(rows, cols, i)\n",
    "    plt.imshow(img.squeeze(), cmap=\"gray\") # important, we need to reduce the dimension by calling squeeze()\n",
    "    plt.title(class_names[lbl])\n",
    "    plt.axis(False)"
   ]
  },
  {
   "cell_type": "markdown",
   "id": "0dc295b2-68bb-4fcd-bf25-52252de37727",
   "metadata": {},
   "source": [
    "### Break Data Into Batches"
   ]
  },
  {
   "cell_type": "code",
   "execution_count": 11,
   "id": "d5b92efe-8441-4a6a-aacd-f1a73934d407",
   "metadata": {},
   "outputs": [
    {
     "name": "stdout",
     "output_type": "stream",
     "text": [
      "len of train_dataloader: 1875 batches of 32\n",
      "len of test_dataloader: 313 batches of 32\n"
     ]
    }
   ],
   "source": [
    "batch_size = 32\n",
    "train_dataloader = DataLoader(dataset=train_data, batch_size=batch_size, shuffle=True)\n",
    "test_dataloader = DataLoader(dataset=test_data, batch_size=batch_size, shuffle=False) # test data, don't need to shuffle\n",
    "\n",
    "print(f\"len of train_dataloader: {len(train_dataloader)} batches of {batch_size}\")\n",
    "print(f\"len of test_dataloader: {len(test_dataloader)} batches of {batch_size}\")"
   ]
  },
  {
   "cell_type": "code",
   "execution_count": 12,
   "id": "1e1d14a7-fc47-4d19-bc78-da60e5c26096",
   "metadata": {},
   "outputs": [
    {
     "name": "stdout",
     "output_type": "stream",
     "text": [
      "image size: torch.Size([1, 28, 28])\n"
     ]
    },
    {
     "data": {
      "image/png": "[encoded data removed]",
      "text/plain": [
       "<Figure size 300x300 with 1 Axes>"
      ]
     },
     "metadata": {},
     "output_type": "display_data"
    }
   ],
   "source": [
    "# show sample\n",
    "train_features_batch, train_labels_batch = next(iter(train_dataloader)) \n",
    "\n",
    "# torch.manual_seed(1234)\n",
    "random_idx = torch.randint(0, len(train_features_batch), size=[1]).item()\n",
    "img, label = train_features_batch[random_idx], train_labels_batch[random_idx]\n",
    "fig = plt.figure(figsize=(3, 3))\n",
    "plt.imshow(img.squeeze(), cmap=\"gray\")\n",
    "plt.title(class_names[label])\n",
    "plt.axis(False)\n",
    "print(f\"image size: {img.shape}\")"
   ]
  },
  {
   "cell_type": "markdown",
   "id": "6fe52291-19ae-4a80-975d-b9a21dcd25ed",
   "metadata": {},
   "source": [
    "### Baseline Model - Simple NN"
   ]
  },
  {
   "cell_type": "code",
   "execution_count": 13,
   "id": "b4e5424d-6c79-43a8-b1ee-5ca3e1259af5",
   "metadata": {},
   "outputs": [
    {
     "name": "stdout",
     "output_type": "stream",
     "text": [
      "Shape before flattening: torch.Size([1, 28, 28]) > [color channel, height, width]\n",
      "Shape after flattening: torch.Size([1, 784]) > [color channel, height * width]\n"
     ]
    }
   ],
   "source": [
    "# show what is Flatten()\n",
    "flatten_model = nn.Flatten()\n",
    "\n",
    "x = train_features_batch[0]\n",
    "output = flatten_model(x) # forward pass\n",
    "\n",
    "print(f\"Shape before flattening: {x.shape} > [color channel, height, width]\")\n",
    "print(f\"Shape after flattening: {output.shape} > [color channel, height * width]\")"
   ]
  },
  {
   "cell_type": "code",
   "execution_count": 14,
   "id": "a0db5c50-29e0-482d-bfcd-aac24f60d462",
   "metadata": {},
   "outputs": [],
   "source": [
    "class FashionMNISTModelV0(nn.Module):\n",
    "    def __init__(self,\n",
    "                    input_shape: int,\n",
    "                    hidden_units: int,\n",
    "                    output_shape: int):\n",
    "        super().__init__()\n",
    "        self.layer_stack = nn.Sequential(\n",
    "            nn.Flatten(),\n",
    "            nn.Linear(\n",
    "                        in_features=input_shape,\n",
    "                        out_features=hidden_units\n",
    "                     ),\n",
    "            nn.Linear(\n",
    "                        in_features=hidden_units,\n",
    "                        out_features=output_shape\n",
    "                     )\n",
    "        )\n",
    "    def forward(self, x):\n",
    "        return self.layer_stack(x)\n",
    "\n",
    "model_0 = FashionMNISTModelV0(\n",
    "    input_shape =784,\n",
    "    hidden_units = 10,\n",
    "    output_shape=len(class_names)\n",
    ").to(device)\n",
    "\n",
    "# set up loss, optimizer\n",
    "loss_fn = nn.CrossEntropyLoss()\n",
    "optimizer = torch.optim.SGD(params=model_0.parameters(),\n",
    "                            lr=0.1)\n"
   ]
  },
  {
   "cell_type": "code",
   "execution_count": 15,
   "id": "9143999f-113e-4403-9543-2e4289e5a53b",
   "metadata": {},
   "outputs": [
    {
     "name": "stderr",
     "output_type": "stream",
     "text": [
      "  0%|                                                                                                                  | 0/3 [00:00<?, ?it/s]"
     ]
    },
    {
     "name": "stdout",
     "output_type": "stream",
     "text": [
      "Epoch: 0\n",
      "----\n",
      "0 / 60000 samples.\n",
      "12800 / 60000 samples.\n",
      "25600 / 60000 samples.\n",
      "38400 / 60000 samples.\n",
      "51200 / 60000 samples.\n"
     ]
    },
    {
     "name": "stderr",
     "output_type": "stream",
     "text": [
      " 33%|███████████████████████████████████▎                                                                      | 1/3 [00:08<00:16,  8.37s/it]"
     ]
    },
    {
     "name": "stdout",
     "output_type": "stream",
     "text": [
      "Train loss: 0.5892 | Test loss: 0.5713, Test acc: 79.7324\n",
      "Epoch: 1\n",
      "----\n",
      "0 / 60000 samples.\n",
      "12800 / 60000 samples.\n",
      "25600 / 60000 samples.\n",
      "38400 / 60000 samples.\n",
      "51200 / 60000 samples.\n"
     ]
    },
    {
     "name": "stderr",
     "output_type": "stream",
     "text": [
      " 67%|██████████████████████████████████████████████████████████████████████▋                                   | 2/3 [00:15<00:07,  7.61s/it]"
     ]
    },
    {
     "name": "stdout",
     "output_type": "stream",
     "text": [
      "Train loss: 0.4773 | Test loss: 0.4749, Test acc: 83.5164\n",
      "Epoch: 2\n",
      "----\n",
      "0 / 60000 samples.\n",
      "12800 / 60000 samples.\n",
      "25600 / 60000 samples.\n",
      "38400 / 60000 samples.\n",
      "51200 / 60000 samples.\n"
     ]
    },
    {
     "name": "stderr",
     "output_type": "stream",
     "text": [
      "100%|██████████████████████████████████████████████████████████████████████████████████████████████████████████| 3/3 [00:22<00:00,  7.54s/it]"
     ]
    },
    {
     "name": "stdout",
     "output_type": "stream",
     "text": [
      "Train loss: 0.4539 | Test loss: 0.5088, Test acc: 82.0487\n",
      "Train time on mps:0: 22.642 seconds\n"
     ]
    },
    {
     "name": "stderr",
     "output_type": "stream",
     "text": [
      "\n"
     ]
    },
    {
     "data": {
      "text/plain": [
       "22.642317000078037"
      ]
     },
     "execution_count": 15,
     "metadata": {},
     "output_type": "execute_result"
    }
   ],
   "source": [
    "# train baseline model\n",
    "start_time = timer()\n",
    "\n",
    "epochs = 3\n",
    "\n",
    "for epoch in tqdm(range(epochs)):\n",
    "    print(f\"Epoch: {epoch}\\n----\")\n",
    "    # training\n",
    "    train_loss = 0\n",
    "    # loop the training batches\n",
    "    for batch, (X, y) in enumerate(train_dataloader):\n",
    "        X, y= X.to(device), y.to(device)\n",
    "        model_0.train()\n",
    "        # forward pass\n",
    "        y_pred = model_0(X)\n",
    "        # calculate loss\n",
    "        loss = loss_fn(y_pred, y)\n",
    "        train_loss += loss # add the loss of each batch\n",
    "        # optimizer zero grad\n",
    "        optimizer.zero_grad()\n",
    "        # loss backward\n",
    "        loss.backward()\n",
    "        # optimizer step\n",
    "        optimizer.step()\n",
    "        if batch % 400 == 0: \n",
    "            print(f\"{batch * len(X)} / {len(train_dataloader.dataset)} samples.\")\n",
    "    # average training loss per batch\n",
    "    train_loss /= len(train_dataloader)\n",
    "\n",
    "    # testing\n",
    "    test_result = eval_model(model_0, test_dataloader, loss_fn, accuracy_fn, device)\n",
    "        \n",
    "    print(f\"Train loss: {train_loss:.4f} | Test loss: {test_result['model_loss']:.4f}, Test acc: {test_result['model_acc']:.4f}\")\n",
    "\n",
    "end_time = timer()\n",
    "print_train_time(start_time, end_time, device=next(model_0.parameters()).device)"
   ]
  },
  {
   "cell_type": "code",
   "execution_count": 16,
   "id": "6a82a6ff-56e3-4a78-8092-c67b05eb1fba",
   "metadata": {},
   "outputs": [
    {
     "data": {
      "text/plain": [
       "{'model_name': 'FashionMNISTModelV0',\n",
       " 'model_loss': 0.5087789297103882,\n",
       " 'model_acc': 82.04872204472844}"
      ]
     },
     "execution_count": 16,
     "metadata": {},
     "output_type": "execute_result"
    }
   ],
   "source": [
    "model_0_result = eval_model(model_0,\n",
    "                            test_dataloader,\n",
    "                            loss_fn,\n",
    "                            accuracy_fn,\n",
    "                            device)\n",
    "\n",
    "model_0_result"
   ]
  },
  {
   "cell_type": "markdown",
   "id": "6fd09b63-ab51-4028-914d-26e949dbe23a",
   "metadata": {},
   "source": [
    "### Better Model - NN with non-linear layer\n",
    "- using ReLU"
   ]
  },
  {
   "cell_type": "code",
   "execution_count": 17,
   "id": "4604da30-50d3-4018-b2bc-2af4216f63e8",
   "metadata": {},
   "outputs": [],
   "source": [
    "class FashionMNISTModelV1(nn.Module):\n",
    "    def __init__(self,\n",
    "                    input_shape: int,\n",
    "                    hidden_units: int,\n",
    "                    output_shape: int):\n",
    "        super().__init__()\n",
    "        self.layer_stack = nn.Sequential(\n",
    "            nn.Flatten(),\n",
    "            nn.Linear(\n",
    "                        in_features=input_shape,\n",
    "                        out_features=hidden_units\n",
    "                     ),\n",
    "            nn.ReLU(),\n",
    "            nn.Linear(\n",
    "                        in_features=hidden_units,\n",
    "                        out_features=output_shape\n",
    "                     ),\n",
    "            nn.ReLU()\n",
    "        )\n",
    "    def forward(self, x):\n",
    "        return self.layer_stack(x)\n",
    "\n",
    "model_1 = FashionMNISTModelV1(\n",
    "    input_shape =784,\n",
    "    hidden_units = 10,\n",
    "    output_shape=len(class_names)\n",
    ").to(device)\n",
    "\n",
    "# set up loss, optimizer\n",
    "loss_fn = nn.CrossEntropyLoss()\n",
    "optimizer = torch.optim.SGD(params=model_1.parameters(), lr=0.1)\n"
   ]
  },
  {
   "cell_type": "code",
   "execution_count": 18,
   "id": "046bb74a-45b7-4ff5-bc90-38f4315afcf3",
   "metadata": {},
   "outputs": [
    {
     "name": "stderr",
     "output_type": "stream",
     "text": [
      "  0%|                                                                                                                  | 0/1 [00:00<?, ?it/s]"
     ]
    },
    {
     "name": "stdout",
     "output_type": "stream",
     "text": [
      "Epoch: 0\n",
      "----\n",
      "Train loss: 0.63273 | Train acc: 77.73%\n"
     ]
    },
    {
     "name": "stderr",
     "output_type": "stream",
     "text": [
      "100%|██████████████████████████████████████████████████████████████████████████████████████████████████████████| 1/1 [00:08<00:00,  8.25s/it]"
     ]
    },
    {
     "name": "stdout",
     "output_type": "stream",
     "text": [
      "Test loss: 0.60077 | Train acc: 78.98%\n",
      "Train time on mps:0: 8.258 seconds\n"
     ]
    },
    {
     "name": "stderr",
     "output_type": "stream",
     "text": [
      "\n"
     ]
    }
   ],
   "source": [
    "# train baseline model\n",
    "start_time = timer()\n",
    "\n",
    "epochs = 1\n",
    "set_seed(1234)\n",
    "\n",
    "for epoch in tqdm(range(epochs)):\n",
    "    print(f\"Epoch: {epoch}\\n----\")\n",
    "    # training\n",
    "    train_step(model_1, train_dataloader, loss_fn, optimizer, accuracy_fn, device)\n",
    "\n",
    "    # testing\n",
    "    test_step(model_1, test_dataloader, loss_fn, accuracy_fn, device)\n",
    "\n",
    "\n",
    "end_time = timer()\n",
    "_ = print_train_time(start_time, end_time, device=next(model_1.parameters()).device)"
   ]
  },
  {
   "cell_type": "code",
   "execution_count": 19,
   "id": "98a327b4-af32-46c5-9463-f138697c137f",
   "metadata": {},
   "outputs": [
    {
     "data": {
      "text/plain": [
       "{'model_name': 'FashionMNISTModelV1',\n",
       " 'model_loss': 0.6007727384567261,\n",
       " 'model_acc': 78.98362619808307}"
      ]
     },
     "execution_count": 19,
     "metadata": {},
     "output_type": "execute_result"
    }
   ],
   "source": [
    "model_1_result = eval_model(model_1,\n",
    "                            test_dataloader,\n",
    "                            loss_fn,\n",
    "                            accuracy_fn,\n",
    "                            device)\n",
    "\n",
    "model_1_result"
   ]
  },
  {
   "cell_type": "markdown",
   "id": "e9c513aa-3c0a-45e4-b63d-2513c6196a38",
   "metadata": {},
   "source": [
    "### CNN\n",
    "- TinyVGG"
   ]
  },
  {
   "cell_type": "code",
   "execution_count": 20,
   "id": "490ac622-f56f-436f-bc3c-9ef7f4a9d481",
   "metadata": {},
   "outputs": [],
   "source": [
    "class FashionMNISTModelV2(nn.Module):\n",
    "    \"\"\"\n",
    "        model architecture that replicate TinyVGG\n",
    "    \"\"\"\n",
    "    def __init__(self,\n",
    "                    input_shape: int,\n",
    "                    hidden_units: int,\n",
    "                    output_shape: int):\n",
    "        super().__init__()\n",
    "        \n",
    "        self.conv_block_1 = nn.Sequential(\n",
    "            nn.Conv2d(in_channels=input_shape,\n",
    "                      out_channels=hidden_units,\n",
    "                      kernel_size=3,\n",
    "                      stride=1,\n",
    "                      padding=1\n",
    "                    ),\n",
    "            nn.ReLU(),\n",
    "            nn.Conv2d(in_channels=hidden_units,\n",
    "                      out_channels=hidden_units,\n",
    "                      kernel_size=3,\n",
    "                      stride=1,\n",
    "                      padding=1\n",
    "                    ),\n",
    "            nn.ReLU(),\n",
    "            nn.MaxPool2d(kernel_size=2,\n",
    "                         stride=2)\n",
    "        )\n",
    "        self.conv_block_2 = nn.Sequential(\n",
    "            nn.Conv2d(in_channels=hidden_units,\n",
    "                      out_channels=hidden_units,\n",
    "                      kernel_size=3,\n",
    "                      padding=1\n",
    "                    ),\n",
    "            nn.ReLU(),\n",
    "            nn.Conv2d(in_channels=hidden_units,\n",
    "                      out_channels=hidden_units,\n",
    "                      kernel_size=3,\n",
    "                      padding=1\n",
    "                    ),\n",
    "            nn.ReLU(),\n",
    "            nn.MaxPool2d(2)\n",
    "        )\n",
    "        self.classifier = nn.Sequential(\n",
    "            nn.Flatten(),\n",
    "            nn.Linear(in_features = hidden_units*7*7,\n",
    "                       out_features= output_shape\n",
    "                     )\n",
    "        )\n",
    "        \n",
    "        \n",
    "    def forward(self, x):\n",
    "        x = self.conv_block_1(x)\n",
    "        # print(x.shape)\n",
    "        x = self.conv_block_2(x)\n",
    "        # print(x.shape)\n",
    "        x = self.classifier(x)\n",
    "        # print(x.shape)\n",
    "        return x\n",
    "\n",
    "model_2 = FashionMNISTModelV2(\n",
    "    input_shape =1, # black and white; 1 channel\n",
    "    hidden_units = 10,\n",
    "    output_shape=len(class_names)\n",
    ").to(device)\n",
    "\n",
    "# set up loss, optimizer\n",
    "loss_fn = nn.CrossEntropyLoss()\n",
    "optimizer = torch.optim.SGD(params=model_2.parameters(), lr=0.1)\n"
   ]
  },
  {
   "cell_type": "code",
   "execution_count": 21,
   "id": "ff5f6305-403f-4518-a36e-ddd4f759c659",
   "metadata": {},
   "outputs": [
    {
     "name": "stderr",
     "output_type": "stream",
     "text": [
      "  0%|                                                                                                                  | 0/3 [00:00<?, ?it/s]"
     ]
    },
    {
     "name": "stdout",
     "output_type": "stream",
     "text": [
      "Epoch: 0\n",
      "----\n",
      "Train loss: 0.68984 | Train acc: 74.70%\n"
     ]
    },
    {
     "name": "stderr",
     "output_type": "stream",
     "text": [
      " 33%|███████████████████████████████████▎                                                                      | 1/3 [00:11<00:22, 11.33s/it]"
     ]
    },
    {
     "name": "stdout",
     "output_type": "stream",
     "text": [
      "Test loss: 0.39942 | Train acc: 85.85%\n",
      "Epoch: 1\n",
      "----\n",
      "Train loss: 0.37024 | Train acc: 86.55%\n"
     ]
    },
    {
     "name": "stderr",
     "output_type": "stream",
     "text": [
      " 67%|██████████████████████████████████████████████████████████████████████▋                                   | 2/3 [00:22<00:10, 10.99s/it]"
     ]
    },
    {
     "name": "stdout",
     "output_type": "stream",
     "text": [
      "Test loss: 0.36615 | Train acc: 86.76%\n",
      "Epoch: 2\n",
      "----\n",
      "Train loss: 0.33259 | Train acc: 87.88%\n"
     ]
    },
    {
     "name": "stderr",
     "output_type": "stream",
     "text": [
      "100%|██████████████████████████████████████████████████████████████████████████████████████████████████████████| 3/3 [00:31<00:00, 10.60s/it]"
     ]
    },
    {
     "name": "stdout",
     "output_type": "stream",
     "text": [
      "Test loss: 0.32995 | Train acc: 87.98%\n",
      "Train time on mps:0: 31.793 seconds\n"
     ]
    },
    {
     "name": "stderr",
     "output_type": "stream",
     "text": [
      "\n"
     ]
    }
   ],
   "source": [
    "# train baseline model\n",
    "start_time = timer()\n",
    "\n",
    "epochs = 3\n",
    "set_seed(1234)\n",
    "\n",
    "for epoch in tqdm(range(epochs)):\n",
    "    print(f\"Epoch: {epoch}\\n----\")\n",
    "    # training\n",
    "    train_step(model_2, train_dataloader, loss_fn, optimizer, accuracy_fn, device)\n",
    "\n",
    "    # testing\n",
    "    test_step(model_2, test_dataloader, loss_fn, accuracy_fn, device)\n",
    "\n",
    "\n",
    "end_time = timer()\n",
    "_ = print_train_time(start_time, end_time, device=next(model_2.parameters()).device)"
   ]
  },
  {
   "cell_type": "code",
   "execution_count": 22,
   "id": "b10dbb92-1079-4663-80e0-0edab7080b7a",
   "metadata": {},
   "outputs": [
    {
     "data": {
      "text/plain": [
       "{'model_name': 'FashionMNISTModelV2',\n",
       " 'model_loss': 0.3299485743045807,\n",
       " 'model_acc': 87.97923322683707}"
      ]
     },
     "execution_count": 22,
     "metadata": {},
     "output_type": "execute_result"
    }
   ],
   "source": [
    "model_2_result = eval_model(model_2,\n",
    "                            test_dataloader,\n",
    "                            loss_fn,\n",
    "                            accuracy_fn,\n",
    "                            device)\n",
    "\n",
    "model_2_result"
   ]
  },
  {
   "cell_type": "markdown",
   "id": "a15b8738-2ae0-4771-9fe1-185796d5f7d1",
   "metadata": {},
   "source": [
    "### Result Comparsion"
   ]
  },
  {
   "cell_type": "code",
   "execution_count": 23,
   "id": "4a8fd690-d518-4662-88ce-79f46ce01104",
   "metadata": {},
   "outputs": [
    {
     "data": {
      "text/plain": [
       "Text(0, 0.5, 'model')"
      ]
     },
     "execution_count": 23,
     "metadata": {},
     "output_type": "execute_result"
    },
    {
     "data": {
      "image/png": "[encoded data removed]",
      "text/plain": [
       "<Figure size 640x480 with 1 Axes>"
      ]
     },
     "metadata": {},
     "output_type": "display_data"
    }
   ],
   "source": [
    "df_result = pd.DataFrame([\n",
    "    model_0_result,\n",
    "    model_1_result,\n",
    "    model_2_result,\n",
    "])\n",
    "\n",
    "df_result.set_index(\"model_name\")[\"model_acc\"].plot(kind=\"barh\")\n",
    "plt.xlabel(\"accuracy (%)\")\n",
    "plt.ylabel(\"model\")"
   ]
  },
  {
   "cell_type": "markdown",
   "id": "23c983af-8e59-4ffc-82f9-a71932c76235",
   "metadata": {},
   "source": [
    "### Make Prediction"
   ]
  },
  {
   "cell_type": "code",
   "execution_count": 24,
   "id": "4bef4e9f-c909-4f00-9d0d-5714dbf3b103",
   "metadata": {},
   "outputs": [],
   "source": [
    "def make_predictions(model: torch.nn.Module, data: list, device: torch.device = device):\n",
    "    pred_probs = []\n",
    "    model.eval()\n",
    "    with torch.inference_mode():\n",
    "        for sample in data:\n",
    "            sample = torch.unsqueeze(sample, dim=0).to(device) # Add an extra dimension and send sample to device\n",
    "            pred_logit = model(sample)\n",
    "            pred_prob = torch.softmax(pred_logit.squeeze(), dim=0) # note: perform softmax on the \"logits\" dimension, not \"batch\" dimension (in this case we have a batch size of 1, so can perform on dim=0)\n",
    "            pred_probs.append(pred_prob.cpu())\n",
    "            \n",
    "    return torch.stack(pred_probs)"
   ]
  },
  {
   "cell_type": "code",
   "execution_count": 25,
   "id": "7f0835c5-8039-4948-a83c-c7d938cc7da9",
   "metadata": {},
   "outputs": [],
   "source": [
    "test_samples = []\n",
    "test_labels = []\n",
    "for sample, label in random.sample(list(test_data), k=9):\n",
    "    test_samples.append(sample)\n",
    "    test_labels.append(label)\n",
    "\n",
    "pred_probs = make_predictions(model_2, test_samples, device)\n",
    "\n",
    "pred_classes = pred_probs.argmax(dim=1)"
   ]
  },
  {
   "cell_type": "code",
   "execution_count": 26,
   "id": "1878a97d-469f-42da-a74b-79cfb0f92f6d",
   "metadata": {},
   "outputs": [
    {
     "data": {
      "image/png": "[encoded data removed]",
      "text/plain": [
       "<Figure size 900x900 with 9 Axes>"
      ]
     },
     "metadata": {},
     "output_type": "display_data"
    }
   ],
   "source": [
    "plt.figure(figsize=(9, 9))\n",
    "nrows = 3\n",
    "ncols = 3\n",
    "for i, sample in enumerate(test_samples):\n",
    "    plt.subplot(nrows, ncols, i+1)\n",
    "    plt.imshow(sample.squeeze(), cmap=\"gray\")\n",
    "\n",
    "    pred_label = class_names[pred_classes[i]]\n",
    "    # Get the truth label (in text form, e.g. \"T-shirt\")\n",
    "    truth_label = class_names[test_labels[i]] \n",
    "    \n",
    "    # Create the title text of the plot\n",
    "    title_text = f\"Pred: {pred_label} | Truth: {truth_label}\"\n",
    "    \n",
    "    # Check for equality and change title colour accordingly\n",
    "    if pred_label == truth_label:\n",
    "      plt.title(title_text, fontsize=10, c=\"g\") # green text if correct\n",
    "    else:\n",
    "      plt.title(title_text, fontsize=10, c=\"r\") # red text if wrong\n",
    "    plt.axis(False);\n"
   ]
  },
  {
   "cell_type": "markdown",
   "id": "cc973b40-90b2-46db-b0d7-2fddb7e0d3ef",
   "metadata": {},
   "source": [
    "### Confusion Matrix"
   ]
  },
  {
   "cell_type": "code",
   "execution_count": 27,
   "id": "b57d6f9f-65d3-4931-9bf8-6e0d2431d061",
   "metadata": {},
   "outputs": [
    {
     "name": "stderr",
     "output_type": "stream",
     "text": [
      "Making predictions: 100%|█████████████████████████████████████████████████████████████████████████████████| 313/313 [00:01<00:00, 242.81it/s]\n"
     ]
    }
   ],
   "source": [
    "# predict all test data\n",
    "\n",
    "y_preds = []\n",
    "model_2.eval()\n",
    "with torch.inference_mode():\n",
    "  for X, y in tqdm(test_dataloader, desc=\"Making predictions\"):\n",
    "    X, y = X.to(device), y.to(device)\n",
    "    y_logit = model_2(X)\n",
    "    y_pred = torch.softmax(y_logit, dim=1).argmax(dim=1)\n",
    "    y_preds.append(y_pred.cpu())\n",
    "\n",
    "y_pred_tensor = torch.cat(y_preds)"
   ]
  },
  {
   "cell_type": "code",
   "execution_count": 28,
   "id": "484ec950-6adf-4d41-8413-7f73c4e781a2",
   "metadata": {},
   "outputs": [
    {
     "data": {
      "image/png": "[encoded data removed]",
      "text/plain": [
       "<Figure size 1000x700 with 1 Axes>"
      ]
     },
     "metadata": {},
     "output_type": "display_data"
    }
   ],
   "source": [
    "confmat = ConfusionMatrix(num_classes=len(class_names), task='multiclass')\n",
    "confmat_tensor = confmat(preds=y_pred_tensor,\n",
    "                         target=test_data.targets)\n",
    "\n",
    "fig, ax = plot_confusion_matrix(\n",
    "    conf_mat=confmat_tensor.numpy(), \n",
    "    class_names=class_names,\n",
    "    figsize=(10, 7)\n",
    ");"
   ]
  },
  {
   "cell_type": "markdown",
   "id": "3383bb24-7090-4f0b-a738-141d621e3de2",
   "metadata": {},
   "source": [
    "### Save / Load Model"
   ]
  },
  {
   "cell_type": "code",
   "execution_count": 29,
   "id": "ec46260a-7e95-4e84-bf1f-88542e51c06b",
   "metadata": {},
   "outputs": [
    {
     "name": "stdout",
     "output_type": "stream",
     "text": [
      "Saving model to: models/03_CNN_model.pth\n"
     ]
    }
   ],
   "source": [
    "from pathlib import Path\n",
    "\n",
    "model_path = Path(\"models\")\n",
    "model_path.mkdir(parents=True,\n",
    "                 exist_ok=True\n",
    ")\n",
    "\n",
    "model_name = \"03_CNN_model.pth\"\n",
    "model_save_path = model_path / model_name\n",
    "\n",
    "#save\n",
    "print(f\"Saving model to: {model_save_path}\")\n",
    "torch.save(obj=model_2.state_dict(), \n",
    "           f=model_save_path)"
   ]
  },
  {
   "cell_type": "code",
   "execution_count": 30,
   "id": "73a96a4d-e449-414d-b3cb-fbe604d14724",
   "metadata": {},
   "outputs": [],
   "source": [
    "# create the instance of FashionMNISTModelV2\n",
    "loaded_model_2 = FashionMNISTModelV2(input_shape=1, \n",
    "                                    hidden_units=10,\n",
    "                                    output_shape=10) \n",
    "# load model state from file \n",
    "loaded_model_2.load_state_dict(torch.load(f=model_save_path))\n",
    "loaded_model_2 = loaded_model_2.to(device)"
   ]
  },
  {
   "cell_type": "code",
   "execution_count": 31,
   "id": "a55b5564-ecae-45c7-8843-ba440ddebf6d",
   "metadata": {},
   "outputs": [
    {
     "data": {
      "text/plain": [
       "{'model_name': 'FashionMNISTModelV2',\n",
       " 'model_loss': 0.3299485743045807,\n",
       " 'model_acc': 87.97923322683707}"
      ]
     },
     "execution_count": 31,
     "metadata": {},
     "output_type": "execute_result"
    }
   ],
   "source": [
    "# evaluate\n",
    "loaded_model_2_result = eval_model(\n",
    "    loaded_model_2,\n",
    "    test_dataloader,\n",
    "    loss_fn, \n",
    "    accuracy_fn,device)\n",
    "loaded_model_2_result"
   ]
  },
  {
   "cell_type": "code",
   "execution_count": 32,
   "id": "6301d091-958b-45ec-85b6-c26afb18bfb5",
   "metadata": {},
   "outputs": [
    {
     "data": {
      "text/plain": [
       "tensor(True)"
      ]
     },
     "execution_count": 32,
     "metadata": {},
     "output_type": "execute_result"
    }
   ],
   "source": [
    "# double check if the model prediction result are the same\n",
    "torch.isclose(torch.tensor(model_2_result[\"model_loss\"]), \n",
    "              torch.tensor(loaded_model_2_result[\"model_loss\"]),\n",
    "              atol=1e-08, # absolute tolerance\n",
    "              rtol=0.0001) # relative tolerance"
   ]
  }
 ],
 "metadata": {
  "kernelspec": {
   "display_name": "Python 3 (ipykernel)",
   "language": "python",
   "name": "python3"
  },
  "language_info": {
   "codemirror_mode": {
    "name": "ipython",
    "version": 3
   },
   "file_extension": ".py",
   "mimetype": "text/x-python",
   "name": "python",
   "nbconvert_exporter": "python",
   "pygments_lexer": "ipython3",
   "version": "3.10.13"
  }
 },
 "nbformat": 4,
 "nbformat_minor": 5
}
